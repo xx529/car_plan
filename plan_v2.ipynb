{
 "cells": [
  {
   "cell_type": "code",
   "execution_count": 3,
   "id": "initial_id",
   "metadata": {
    "collapsed": true,
    "ExecuteTime": {
     "end_time": "2024-03-18T14:12:03.479646Z",
     "start_time": "2024-03-18T14:12:03.465740Z"
    }
   },
   "outputs": [
    {
     "name": "stdout",
     "output_type": "stream",
     "text": [
      "Optimal solution:\n",
      "[1. 1. 0.]\n",
      "Optimal value: 0.0\n"
     ]
    }
   ],
   "source": [
    "import cvxpy as cp\n",
    "\n",
    "# 定义变量\n",
    "x = cp.Variable(3, boolean=True)\n",
    "\n",
    "# 定义目标函数\n",
    "objective = cp.Maximize(-2 * x[0] + x[1] - 3 * x[2] + x[1])\n",
    "\n",
    "# 定义约束条件\n",
    "constraints = [cp.sum(x) == 2]\n",
    "\n",
    "# 定义问题\n",
    "problem = cp.Problem(objective, constraints)\n",
    "\n",
    "# 求解问题\n",
    "result = problem.solve()\n",
    "\n",
    "# 打印结果\n",
    "print(\"Optimal solution:\")\n",
    "print(x.value)\n",
    "print(\"Optimal value:\", result)"
   ]
  },
  {
   "cell_type": "code",
   "execution_count": 58,
   "outputs": [
    {
     "data": {
      "text/plain": "Variable((3,), var101, boolean=True)"
     },
     "execution_count": 58,
     "metadata": {},
     "output_type": "execute_result"
    }
   ],
   "source": [
    "x"
   ],
   "metadata": {
    "collapsed": false,
    "ExecuteTime": {
     "end_time": "2024-03-17T14:50:59.167710Z",
     "start_time": "2024-03-17T14:50:59.162283Z"
    }
   },
   "id": "b72efddec23d7b22"
  },
  {
   "cell_type": "code",
   "execution_count": 49,
   "outputs": [
    {
     "data": {
      "text/plain": "array([1., 1., 0.])"
     },
     "execution_count": 49,
     "metadata": {},
     "output_type": "execute_result"
    }
   ],
   "source": [
    "x.value"
   ],
   "metadata": {
    "collapsed": false,
    "ExecuteTime": {
     "end_time": "2024-03-17T14:46:15.485953Z",
     "start_time": "2024-03-17T14:46:15.475438Z"
    }
   },
   "id": "979d2793987bda4b"
  },
  {
   "cell_type": "code",
   "execution_count": null,
   "outputs": [],
   "source": [],
   "metadata": {
    "collapsed": false
   },
   "id": "285e5d892d2a422c"
  }
 ],
 "metadata": {
  "kernelspec": {
   "display_name": "Python 3",
   "language": "python",
   "name": "python3"
  },
  "language_info": {
   "codemirror_mode": {
    "name": "ipython",
    "version": 2
   },
   "file_extension": ".py",
   "mimetype": "text/x-python",
   "name": "python",
   "nbconvert_exporter": "python",
   "pygments_lexer": "ipython2",
   "version": "2.7.6"
  }
 },
 "nbformat": 4,
 "nbformat_minor": 5
}
